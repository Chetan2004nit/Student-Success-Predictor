{
 "cells": [
  {
   "cell_type": "code",
   "execution_count": 2,
   "id": "556db151-eb0d-40ed-a7ee-f18d649810ae",
   "metadata": {},
   "outputs": [
    {
     "name": "stdout",
     "output_type": "stream",
     "text": [
      "Sample Rows\n",
      "   StudyHours  Attendance  PastScore Internet  SleepHours Passed\n",
      "0           2          60         40        y           5      n\n",
      "1           5          80         60        n           6      y\n",
      "2           8          90         75        y           8      y\n",
      "3           3          70         50        y           5      n\n",
      "4           7          85         70        n           7      y\n",
      "Dataset shape\n",
      "Rows: 20, Columns: 6\n",
      "Dataset info\n",
      "<class 'pandas.core.frame.DataFrame'>\n",
      "RangeIndex: 20 entries, 0 to 19\n",
      "Data columns (total 6 columns):\n",
      " #   Column      Non-Null Count  Dtype \n",
      "---  ------      --------------  ----- \n",
      " 0   StudyHours  20 non-null     int64 \n",
      " 1   Attendance  20 non-null     int64 \n",
      " 2   PastScore   20 non-null     int64 \n",
      " 3   Internet    20 non-null     object\n",
      " 4   SleepHours  20 non-null     int64 \n",
      " 5   Passed      20 non-null     object\n",
      "dtypes: int64(4), object(2)\n",
      "memory usage: 1.1+ KB\n",
      "None\n",
      "Summery Statistics\n",
      "        StudyHours  Attendance  PastScore Internet  SleepHours Passed\n",
      "count    20.000000   20.000000   20.00000       20   20.000000     20\n",
      "unique         NaN         NaN        NaN        2         NaN      2\n",
      "top            NaN         NaN        NaN        y         NaN      y\n",
      "freq           NaN         NaN        NaN       11         NaN     11\n",
      "mean      5.100000   74.150000   59.10000      NaN    6.050000    NaN\n",
      "std       2.845125   17.372922   19.41215      NaN    2.038446    NaN\n",
      "min       1.000000   40.000000   25.00000      NaN    3.000000    NaN\n",
      "25%       2.750000   60.000000   43.75000      NaN    4.750000    NaN\n",
      "50%       5.000000   77.000000   62.50000      NaN    6.000000    NaN\n",
      "75%       7.250000   88.500000   72.75000      NaN    7.250000    NaN\n",
      "max      10.000000   99.000000   90.00000      NaN   10.000000    NaN\n",
      "missing values\n",
      "StudyHours    0\n",
      "Attendance    0\n",
      "PastScore     0\n",
      "Internet      0\n",
      "SleepHours    0\n",
      "Passed        0\n",
      "dtype: int64\n"
     ]
    }
   ],
   "source": [
    "import pandas as pd \n",
    "import numpy as np\n",
    "df = pd.read_csv(\"stedent_data.csv\") \n",
    "\n",
    "print(\"Sample Rows\")\n",
    "print(df.head())\n",
    "\n",
    "print(\"Dataset shape\")\n",
    "print(f'Rows: {df.shape[0]}, Columns: {df.shape[1]}')\n",
    "\n",
    "print(\"Dataset info\")\n",
    "print(df.info())\n",
    "\n",
    "print(\"Summery Statistics\")\n",
    "print(df.describe(include='all'))\n",
    "\n",
    "print(\"missing values\")\n",
    "print(df.isnull().sum())\n",
    "\n"
   ]
  },
  {
   "cell_type": "markdown",
   "id": "1e84a5f0-a257-4d10-867c-158295cf44b6",
   "metadata": {},
   "source": [
    "#### S-2 data Cleaning \n"
   ]
  },
  {
   "cell_type": "code",
   "execution_count": 8,
   "id": "5ddce6f6-1b17-4f26-9c4f-90c954f873ef",
   "metadata": {},
   "outputs": [
    {
     "name": "stdout",
     "output_type": "stream",
     "text": [
      "Missing values in each column\n",
      "StudyHours    0\n",
      "Attendance    0\n",
      "PastScore     0\n",
      "Internet      0\n",
      "SleepHours    0\n",
      "Passed        0\n",
      "dtype: int64\n",
      "Data_types after cleaning\n",
      "StudyHours    int64\n",
      "Attendance    int64\n",
      "PastScore     int64\n",
      "Internet      int64\n",
      "SleepHours    int64\n",
      "Passed        int64\n",
      "dtype: object\n"
     ]
    }
   ],
   "source": [
    "from sklearn.preprocessing import LabelEncoder\n",
    "\n",
    "df = pd.read_csv(\"stedent_data.csv\") \n",
    "\n",
    "print(\"Missing values in each column\")\n",
    "print(df.isnull().sum())\n",
    "\n",
    "le =   LabelEncoder()\n",
    "df['Internet']=le.fit_transform(df[\"Internet\"])\n",
    "df['Passed']=le.fit_transform(df[\"Passed\"])\n",
    "\n",
    "print('Data_types after cleaning')\n",
    "print(df.dtypes)\n"
   ]
  },
  {
   "cell_type": "code",
   "execution_count": null,
   "id": "c996efc1-ef46-4c60-bcf6-383341525742",
   "metadata": {},
   "outputs": [
    {
     "name": "stdout",
     "output_type": "stream",
     "text": [
      "classification report\n",
      "              precision    recall  f1-score   support\n",
      "\n",
      "           0       1.00      1.00      1.00         1\n",
      "           1       1.00      1.00      1.00         3\n",
      "\n",
      "    accuracy                           1.00         4\n",
      "   macro avg       1.00      1.00      1.00         4\n",
      "weighted avg       1.00      1.00      1.00         4\n",
      "\n"
     ]
    },
    {
     "data": {
      "image/png": "[encoded data removed]",
      "text/plain": [
       "<Figure size 600x400 with 2 Axes>"
      ]
     },
     "metadata": {},
     "output_type": "display_data"
    },
    {
     "name": "stdout",
     "output_type": "stream",
     "text": [
      "predict your result--------\n"
     ]
    }
   ],
   "source": [
    "#### S-3 Feature scaling \n",
    "import pandas as pd \n",
    "import numpy as np\n",
    "import matplotlib.pyplot as plt\n",
    "import seaborn as sns\n",
    "from sklearn.preprocessing import StandardScaler, LabelEncoder\n",
    "from sklearn.model_selection import train_test_split\n",
    "from sklearn.linear_model import LogisticRegression\n",
    "from sklearn.metrics import classification_report, confusion_matrix\n",
    "\n",
    "#read csv file\n",
    "df = pd.read_csv(\"stedent_data.csv\") \n",
    "\n",
    "#Encode categorical columns\n",
    "le = LabelEncoder()\n",
    "df['Internet'] = le.fit_transform(df[\"Internet\"])\n",
    "df['Passed'] = le.fit_transform(df[\"Passed\"])\n",
    "\n",
    "# Define Features (Removed 'Passed' from features)\n",
    "features = ['StudyHours', 'Attendance', 'PastScore', 'SleepHours']\n",
    "\n",
    "# scale the features\n",
    "scaler = StandardScaler()\n",
    "df_scaled = df.copy()\n",
    "df_scaled[features] = scaler.fit_transform(df[features])\n",
    "\n",
    "# S-4 \n",
    "\n",
    "#Split the data\n",
    "X = df_scaled[features] #features\n",
    "y = df_scaled['Passed'] #target\n",
    "X_train, X_test, y_train, y_test = train_test_split(X, y, test_size = 0.2, random_state = 42) \n",
    "\n",
    "#Train the model\n",
    "model = LogisticRegression()\n",
    "model.fit(X_train, y_train)\n",
    "\n",
    "# predict\n",
    "y_pred = model.predict(X_test)\n",
    "\n",
    "#capitalization\n",
    "print(\"classification report\")\n",
    "print(classification_report(y_test, y_pred))\n",
    "\n",
    "# Confusion matrix\n",
    "conf_matrix = confusion_matrix(y_test, y_pred)\n",
    "plt.figure(figsize=(6,4))\n",
    "\n",
    "#heatmap\n",
    "sns.heatmap(conf_matrix, annot=True, fmt =\"d\", cmap = \"Blues\", xticklabels = [\"Fail\", \"Pass\"], yticklabels = [\"fail\", \"Pass\"])\n",
    "plt.xlabel(\"Predicted\")\n",
    "plt.ylabel(\"Actual\")\n",
    "plt.title(\"confusion Matrix\")\n",
    "plt.tight_layout()\n",
    "plt.show()\n",
    "\n",
    "# predicting new input \n",
    "print(\"predict your result--------\")\n",
    "try:\n",
    "    study_hours = float(input(\"Enter Study_hours\"))\n",
    "    attendance = float(input(\"Enter attendance\"))\n",
    "    past_score = float(input(\"Enter past score\"))\n",
    "    sleep_hours = float(input(\"Enter sleep hours\"))\n",
    "\n",
    "    \n",
    "    user_input_df = pd.DataFrame([{\n",
    "        'StudyHours': study_hours,\n",
    "        'Attendance':attendance,\n",
    "        'PastScore':past_score,\n",
    "        'SleepHours':sleep_hours}])\n",
    "\n",
    "    user_input_scaled = scaler.transform(user_input_df)\n",
    "\n",
    "    prediction = model.predict(user_input_scaled)[0]\n",
    "\n",
    "    result = \"Pass haha\" if prediction == 1 else \"fail oooo :( \"\n",
    "    print(f\"prediction Based on input:{result}\")\n",
    "except Exception as e:\n",
    "    print(\" An error occured\", e)\n",
    "        \n",
    "\n",
    "    "
   ]
  },
  {
   "cell_type": "code",
   "execution_count": null,
   "id": "7a6d1aad-7005-4718-a1a5-73dbb3089e9c",
   "metadata": {},
   "outputs": [],
   "source": []
  }
 ],
 "metadata": {
  "kernelspec": {
   "display_name": "Python 3 (ipykernel)",
   "language": "python",
   "name": "python3"
  },
  "language_info": {
   "codemirror_mode": {
    "name": "ipython",
    "version": 3
   },
   "file_extension": ".py",
   "mimetype": "text/x-python",
   "name": "python",
   "nbconvert_exporter": "python",
   "pygments_lexer": "ipython3",
   "version": "3.13.1"
  }
 },
 "nbformat": 4,
 "nbformat_minor": 5
}
